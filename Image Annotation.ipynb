{
  "nbformat": 4,
  "nbformat_minor": 0,
  "metadata": {
    "colab": {
      "provenance": [],
      "authorship_tag": "ABX9TyNiyulWrpr5H0MyOZbcxPBI",
      "include_colab_link": true
    },
    "kernelspec": {
      "name": "python3",
      "display_name": "Python 3"
    },
    "language_info": {
      "name": "python"
    }
  },
  "cells": [
    {
      "cell_type": "markdown",
      "metadata": {
        "id": "view-in-github",
        "colab_type": "text"
      },
      "source": [
        "<a href=\"https://colab.research.google.com/github/maazashraf23/Pre-Thesis-Task/blob/main/Pre_Project_Task.ipynb\" target=\"_parent\"><img src=\"https://colab.research.google.com/assets/colab-badge.svg\" alt=\"Open In Colab\"/></a>"
      ]
    },
    {
      "cell_type": "code",
      "metadata": {
        "colab": {
          "base_uri": "https://localhost:8080/"
        },
        "id": "yUkoELW2W22E",
        "outputId": "49066cc3-55cc-448e-bb67-e6c354589e06"
      },
      "source": [
        "!pip install pandas_read_xml\n",
        "import xml.etree.cElementTree as ET\n",
        "import pandas_read_xml as pdx\n",
        "from pandas_read_xml import flatten\n",
        "import pandas as pd"
      ],
      "execution_count": null,
      "outputs": [
        {
          "output_type": "stream",
          "name": "stdout",
          "text": [
            "Collecting pandas_read_xml\n",
            "  Downloading pandas_read_xml-0.3.1-py3-none-any.whl (6.3 kB)\n",
            "Requirement already satisfied: requests in /usr/local/lib/python3.7/dist-packages (from pandas_read_xml) (2.23.0)\n",
            "Collecting urllib3>=1.26.3\n",
            "  Downloading urllib3-1.26.7-py2.py3-none-any.whl (138 kB)\n",
            "\u001b[K     |████████████████████████████████| 138 kB 39.8 MB/s \n",
            "\u001b[?25hCollecting distlib\n",
            "  Downloading distlib-0.3.3-py2.py3-none-any.whl (496 kB)\n",
            "\u001b[K     |████████████████████████████████| 496 kB 8.2 MB/s \n",
            "\u001b[?25hCollecting zipfile36\n",
            "  Downloading zipfile36-0.1.3-py3-none-any.whl (20 kB)\n",
            "Requirement already satisfied: pandas in /usr/local/lib/python3.7/dist-packages (from pandas_read_xml) (1.1.5)\n",
            "Requirement already satisfied: pyarrow in /usr/local/lib/python3.7/dist-packages (from pandas_read_xml) (3.0.0)\n",
            "Collecting xmltodict\n",
            "  Downloading xmltodict-0.12.0-py2.py3-none-any.whl (9.2 kB)\n",
            "Requirement already satisfied: numpy>=1.15.4 in /usr/local/lib/python3.7/dist-packages (from pandas->pandas_read_xml) (1.19.5)\n",
            "Requirement already satisfied: python-dateutil>=2.7.3 in /usr/local/lib/python3.7/dist-packages (from pandas->pandas_read_xml) (2.8.2)\n",
            "Requirement already satisfied: pytz>=2017.2 in /usr/local/lib/python3.7/dist-packages (from pandas->pandas_read_xml) (2018.9)\n",
            "Requirement already satisfied: six>=1.5 in /usr/local/lib/python3.7/dist-packages (from python-dateutil>=2.7.3->pandas->pandas_read_xml) (1.15.0)\n",
            "Collecting requests\n",
            "  Downloading requests-2.26.0-py2.py3-none-any.whl (62 kB)\n",
            "\u001b[K     |████████████████████████████████| 62 kB 785 kB/s \n",
            "\u001b[?25hRequirement already satisfied: certifi>=2017.4.17 in /usr/local/lib/python3.7/dist-packages (from requests->pandas_read_xml) (2021.10.8)\n",
            "Requirement already satisfied: charset-normalizer~=2.0.0 in /usr/local/lib/python3.7/dist-packages (from requests->pandas_read_xml) (2.0.8)\n",
            "Requirement already satisfied: idna<4,>=2.5 in /usr/local/lib/python3.7/dist-packages (from requests->pandas_read_xml) (2.10)\n",
            "Installing collected packages: urllib3, zipfile36, xmltodict, requests, distlib, pandas-read-xml\n",
            "  Attempting uninstall: urllib3\n",
            "    Found existing installation: urllib3 1.24.3\n",
            "    Uninstalling urllib3-1.24.3:\n",
            "      Successfully uninstalled urllib3-1.24.3\n",
            "  Attempting uninstall: requests\n",
            "    Found existing installation: requests 2.23.0\n",
            "    Uninstalling requests-2.23.0:\n",
            "      Successfully uninstalled requests-2.23.0\n",
            "\u001b[31mERROR: pip's dependency resolver does not currently take into account all the packages that are installed. This behaviour is the source of the following dependency conflicts.\n",
            "google-colab 1.0.0 requires requests~=2.23.0, but you have requests 2.26.0 which is incompatible.\n",
            "datascience 0.10.6 requires folium==0.2.1, but you have folium 0.8.3 which is incompatible.\u001b[0m\n",
            "Successfully installed distlib-0.3.3 pandas-read-xml-0.3.1 requests-2.26.0 urllib3-1.26.7 xmltodict-0.12.0 zipfile36-0.1.3\n"
          ]
        }
      ]
    },
    {
      "cell_type": "code",
      "metadata": {
        "colab": {
          "base_uri": "https://localhost:8080/"
        },
        "id": "lQc7kHmTXB31",
        "outputId": "fc3b46a7-f304-40b6-8523-772ec3224c5e"
      },
      "source": [
        "from google.colab import drive\n",
        "drive.mount('/content/drive')\n",
        "mytree1= ('/content/drive/My Drive/Colab Notebooks/Project Pre task/project_pre_task/Cam04_0205 13-59-22.xml')"
      ],
      "execution_count": null,
      "outputs": [
        {
          "output_type": "stream",
          "name": "stdout",
          "text": [
            "Mounted at /content/drive\n"
          ]
        }
      ]
    },
    {
      "cell_type": "code",
      "metadata": {
        "colab": {
          "base_uri": "https://localhost:8080/",
          "height": 98
        },
        "id": "sg2sR8LGXEde",
        "outputId": "5cbf8ef1-fb1c-4333-b52c-8133df739778"
      },
      "source": [
        "df = pdx.read_xml(mytree1, ['annotation'])\n",
        " \n",
        "df"
      ],
      "execution_count": null,
      "outputs": [
        {
          "output_type": "execute_result",
          "data": {
            "text/html": [
              "<div>\n",
              "<style scoped>\n",
              "    .dataframe tbody tr th:only-of-type {\n",
              "        vertical-align: middle;\n",
              "    }\n",
              "\n",
              "    .dataframe tbody tr th {\n",
              "        vertical-align: top;\n",
              "    }\n",
              "\n",
              "    .dataframe thead th {\n",
              "        text-align: right;\n",
              "    }\n",
              "</style>\n",
              "<table border=\"1\" class=\"dataframe\">\n",
              "  <thead>\n",
              "    <tr style=\"text-align: right;\">\n",
              "      <th></th>\n",
              "      <th>folder</th>\n",
              "      <th>filename</th>\n",
              "      <th>path</th>\n",
              "      <th>source</th>\n",
              "      <th>size</th>\n",
              "      <th>segmented</th>\n",
              "      <th>object</th>\n",
              "    </tr>\n",
              "  </thead>\n",
              "  <tbody>\n",
              "    <tr>\n",
              "      <th>0</th>\n",
              "      <td>label</td>\n",
              "      <td>Cam04_0205 13-59-22.jpg</td>\n",
              "      <td>/home/mfranke/SMART2/ROS-Bags/label/Cam04_0205...</td>\n",
              "      <td>{'database': 'Unknown'}</td>\n",
              "      <td>{'width': '2592', 'height': '1944', 'depth': '3'}</td>\n",
              "      <td>0</td>\n",
              "      <td>[{'name': 'car', 'pose': 'Unspecified', 'trunc...</td>\n",
              "    </tr>\n",
              "  </tbody>\n",
              "</table>\n",
              "</div>"
            ],
            "text/plain": [
              "  folder  ...                                             object\n",
              "0  label  ...  [{'name': 'car', 'pose': 'Unspecified', 'trunc...\n",
              "\n",
              "[1 rows x 7 columns]"
            ]
          },
          "metadata": {},
          "execution_count": 3
        }
      ]
    },
    {
      "cell_type": "code",
      "metadata": {
        "id": "0EODDqbXXWyx",
        "colab": {
          "base_uri": "https://localhost:8080/",
          "height": 167
        },
        "outputId": "3f176a87-62d2-4711-9bd9-6c4cc41f9478"
      },
      "source": [
        "df = df.pipe(flatten)\n",
        " \n",
        "a=df['filename'][0]\n",
        "a=a[:5]\n",
        "df\n"
      ],
      "execution_count": null,
      "outputs": [
        {
          "output_type": "execute_result",
          "data": {
            "text/html": [
              "<div>\n",
              "<style scoped>\n",
              "    .dataframe tbody tr th:only-of-type {\n",
              "        vertical-align: middle;\n",
              "    }\n",
              "\n",
              "    .dataframe tbody tr th {\n",
              "        vertical-align: top;\n",
              "    }\n",
              "\n",
              "    .dataframe thead th {\n",
              "        text-align: right;\n",
              "    }\n",
              "</style>\n",
              "<table border=\"1\" class=\"dataframe\">\n",
              "  <thead>\n",
              "    <tr style=\"text-align: right;\">\n",
              "      <th></th>\n",
              "      <th>folder</th>\n",
              "      <th>filename</th>\n",
              "      <th>path</th>\n",
              "      <th>segmented</th>\n",
              "      <th>source|database</th>\n",
              "      <th>size|width</th>\n",
              "      <th>size|height</th>\n",
              "      <th>size|depth</th>\n",
              "      <th>object|name</th>\n",
              "      <th>object|pose</th>\n",
              "      <th>object|truncated</th>\n",
              "      <th>object|difficult</th>\n",
              "      <th>object|bndbox|xmin</th>\n",
              "      <th>object|bndbox|ymin</th>\n",
              "      <th>object|bndbox|xmax</th>\n",
              "      <th>object|bndbox|ymax</th>\n",
              "    </tr>\n",
              "  </thead>\n",
              "  <tbody>\n",
              "    <tr>\n",
              "      <th>0</th>\n",
              "      <td>label</td>\n",
              "      <td>Cam04_0205 13-59-22.jpg</td>\n",
              "      <td>/home/mfranke/SMART2/ROS-Bags/label/Cam04_0205...</td>\n",
              "      <td>0</td>\n",
              "      <td>Unknown</td>\n",
              "      <td>2592</td>\n",
              "      <td>1944</td>\n",
              "      <td>3</td>\n",
              "      <td>car</td>\n",
              "      <td>Unspecified</td>\n",
              "      <td>0</td>\n",
              "      <td>0</td>\n",
              "      <td>1109</td>\n",
              "      <td>1286</td>\n",
              "      <td>1239</td>\n",
              "      <td>1789</td>\n",
              "    </tr>\n",
              "    <tr>\n",
              "      <th>1</th>\n",
              "      <td>label</td>\n",
              "      <td>Cam04_0205 13-59-22.jpg</td>\n",
              "      <td>/home/mfranke/SMART2/ROS-Bags/label/Cam04_0205...</td>\n",
              "      <td>0</td>\n",
              "      <td>Unknown</td>\n",
              "      <td>2592</td>\n",
              "      <td>1944</td>\n",
              "      <td>3</td>\n",
              "      <td>car</td>\n",
              "      <td>Unspecified</td>\n",
              "      <td>0</td>\n",
              "      <td>0</td>\n",
              "      <td>1562</td>\n",
              "      <td>1320</td>\n",
              "      <td>1664</td>\n",
              "      <td>1631</td>\n",
              "    </tr>\n",
              "  </tbody>\n",
              "</table>\n",
              "</div>"
            ],
            "text/plain": [
              "  folder                 filename  ... object|bndbox|xmax object|bndbox|ymax\n",
              "0  label  Cam04_0205 13-59-22.jpg  ...               1239               1789\n",
              "1  label  Cam04_0205 13-59-22.jpg  ...               1664               1631\n",
              "\n",
              "[2 rows x 16 columns]"
            ]
          },
          "metadata": {},
          "execution_count": 8
        }
      ]
    },
    {
      "cell_type": "code",
      "metadata": {
        "colab": {
          "base_uri": "https://localhost:8080/",
          "height": 167
        },
        "id": "i2S7QiYLXhIx",
        "outputId": "2c94f5d1-18f7-4497-fa04-91a114563166"
      },
      "source": [
        "df = df.pipe(flatten)\n",
        " \n",
        "df\n"
      ],
      "execution_count": null,
      "outputs": [
        {
          "output_type": "execute_result",
          "data": {
            "text/html": [
              "<div>\n",
              "<style scoped>\n",
              "    .dataframe tbody tr th:only-of-type {\n",
              "        vertical-align: middle;\n",
              "    }\n",
              "\n",
              "    .dataframe tbody tr th {\n",
              "        vertical-align: top;\n",
              "    }\n",
              "\n",
              "    .dataframe thead th {\n",
              "        text-align: right;\n",
              "    }\n",
              "</style>\n",
              "<table border=\"1\" class=\"dataframe\">\n",
              "  <thead>\n",
              "    <tr style=\"text-align: right;\">\n",
              "      <th></th>\n",
              "      <th>folder</th>\n",
              "      <th>filename</th>\n",
              "      <th>path</th>\n",
              "      <th>segmented</th>\n",
              "      <th>source|database</th>\n",
              "      <th>size|width</th>\n",
              "      <th>size|height</th>\n",
              "      <th>size|depth</th>\n",
              "      <th>object|name</th>\n",
              "      <th>object|pose</th>\n",
              "      <th>object|truncated</th>\n",
              "      <th>object|difficult</th>\n",
              "      <th>object|bndbox|xmin</th>\n",
              "      <th>object|bndbox|ymin</th>\n",
              "      <th>object|bndbox|xmax</th>\n",
              "      <th>object|bndbox|ymax</th>\n",
              "    </tr>\n",
              "  </thead>\n",
              "  <tbody>\n",
              "    <tr>\n",
              "      <th>0</th>\n",
              "      <td>label</td>\n",
              "      <td>Cam04_0205 13-59-22.jpg</td>\n",
              "      <td>/home/mfranke/SMART2/ROS-Bags/label/Cam04_0205...</td>\n",
              "      <td>0</td>\n",
              "      <td>Unknown</td>\n",
              "      <td>2592</td>\n",
              "      <td>1944</td>\n",
              "      <td>3</td>\n",
              "      <td>car</td>\n",
              "      <td>Unspecified</td>\n",
              "      <td>0</td>\n",
              "      <td>0</td>\n",
              "      <td>1109</td>\n",
              "      <td>1286</td>\n",
              "      <td>1239</td>\n",
              "      <td>1789</td>\n",
              "    </tr>\n",
              "    <tr>\n",
              "      <th>1</th>\n",
              "      <td>label</td>\n",
              "      <td>Cam04_0205 13-59-22.jpg</td>\n",
              "      <td>/home/mfranke/SMART2/ROS-Bags/label/Cam04_0205...</td>\n",
              "      <td>0</td>\n",
              "      <td>Unknown</td>\n",
              "      <td>2592</td>\n",
              "      <td>1944</td>\n",
              "      <td>3</td>\n",
              "      <td>car</td>\n",
              "      <td>Unspecified</td>\n",
              "      <td>0</td>\n",
              "      <td>0</td>\n",
              "      <td>1562</td>\n",
              "      <td>1320</td>\n",
              "      <td>1664</td>\n",
              "      <td>1631</td>\n",
              "    </tr>\n",
              "  </tbody>\n",
              "</table>\n",
              "</div>"
            ],
            "text/plain": [
              "  folder                 filename  ... object|bndbox|xmax object|bndbox|ymax\n",
              "0  label  Cam04_0205 13-59-22.jpg  ...               1239               1789\n",
              "1  label  Cam04_0205 13-59-22.jpg  ...               1664               1631\n",
              "\n",
              "[2 rows x 16 columns]"
            ]
          },
          "metadata": {},
          "execution_count": 9
        }
      ]
    },
    {
      "cell_type": "code",
      "metadata": {
        "colab": {
          "base_uri": "https://localhost:8080/",
          "height": 167
        },
        "id": "h9emIWhzc5ev",
        "outputId": "36717ace-96ce-4e6c-fc31-74d25fc04d3c"
      },
      "source": [
        "df['Camera']=a\n",
        "\n",
        "data=df.drop(['folder', 'segmented','source|database','source|database','object|pose','object|truncated','object|difficult','size|depth'], axis=1)\n",
        "\n",
        "data"
      ],
      "execution_count": null,
      "outputs": [
        {
          "output_type": "execute_result",
          "data": {
            "text/html": [
              "<div>\n",
              "<style scoped>\n",
              "    .dataframe tbody tr th:only-of-type {\n",
              "        vertical-align: middle;\n",
              "    }\n",
              "\n",
              "    .dataframe tbody tr th {\n",
              "        vertical-align: top;\n",
              "    }\n",
              "\n",
              "    .dataframe thead th {\n",
              "        text-align: right;\n",
              "    }\n",
              "</style>\n",
              "<table border=\"1\" class=\"dataframe\">\n",
              "  <thead>\n",
              "    <tr style=\"text-align: right;\">\n",
              "      <th></th>\n",
              "      <th>filename</th>\n",
              "      <th>path</th>\n",
              "      <th>size|width</th>\n",
              "      <th>size|height</th>\n",
              "      <th>object|name</th>\n",
              "      <th>object|bndbox|xmin</th>\n",
              "      <th>object|bndbox|ymin</th>\n",
              "      <th>object|bndbox|xmax</th>\n",
              "      <th>object|bndbox|ymax</th>\n",
              "      <th>Camera</th>\n",
              "    </tr>\n",
              "  </thead>\n",
              "  <tbody>\n",
              "    <tr>\n",
              "      <th>0</th>\n",
              "      <td>Cam04_0205 13-59-22.jpg</td>\n",
              "      <td>/home/mfranke/SMART2/ROS-Bags/label/Cam04_0205...</td>\n",
              "      <td>2592</td>\n",
              "      <td>1944</td>\n",
              "      <td>car</td>\n",
              "      <td>1109</td>\n",
              "      <td>1286</td>\n",
              "      <td>1239</td>\n",
              "      <td>1789</td>\n",
              "      <td>Cam04</td>\n",
              "    </tr>\n",
              "    <tr>\n",
              "      <th>1</th>\n",
              "      <td>Cam04_0205 13-59-22.jpg</td>\n",
              "      <td>/home/mfranke/SMART2/ROS-Bags/label/Cam04_0205...</td>\n",
              "      <td>2592</td>\n",
              "      <td>1944</td>\n",
              "      <td>car</td>\n",
              "      <td>1562</td>\n",
              "      <td>1320</td>\n",
              "      <td>1664</td>\n",
              "      <td>1631</td>\n",
              "      <td>Cam04</td>\n",
              "    </tr>\n",
              "  </tbody>\n",
              "</table>\n",
              "</div>"
            ],
            "text/plain": [
              "                  filename  ... Camera\n",
              "0  Cam04_0205 13-59-22.jpg  ...  Cam04\n",
              "1  Cam04_0205 13-59-22.jpg  ...  Cam04\n",
              "\n",
              "[2 rows x 10 columns]"
            ]
          },
          "metadata": {},
          "execution_count": 10
        }
      ]
    },
    {
      "cell_type": "code",
      "metadata": {
        "colab": {
          "base_uri": "https://localhost:8080/",
          "height": 165
        },
        "id": "YI31cRljY8-F",
        "outputId": "f144ad03-e88c-44c7-8cc1-de05784384fe"
      },
      "source": [
        "data.to_csv(\"fieldtest_annotations.csv\")\n",
        "data"
      ],
      "execution_count": null,
      "outputs": [
        {
          "output_type": "execute_result",
          "data": {
            "text/html": [
              "<div>\n",
              "<style scoped>\n",
              "    .dataframe tbody tr th:only-of-type {\n",
              "        vertical-align: middle;\n",
              "    }\n",
              "\n",
              "    .dataframe tbody tr th {\n",
              "        vertical-align: top;\n",
              "    }\n",
              "\n",
              "    .dataframe thead th {\n",
              "        text-align: right;\n",
              "    }\n",
              "</style>\n",
              "<table border=\"1\" class=\"dataframe\">\n",
              "  <thead>\n",
              "    <tr style=\"text-align: right;\">\n",
              "      <th></th>\n",
              "      <th>filename</th>\n",
              "      <th>path</th>\n",
              "      <th>size|width</th>\n",
              "      <th>size|height</th>\n",
              "      <th>object|name</th>\n",
              "      <th>object|bndbox|xmin</th>\n",
              "      <th>object|bndbox|ymin</th>\n",
              "      <th>object|bndbox|xmax</th>\n",
              "      <th>object|bndbox|ymax</th>\n",
              "      <th>Camera</th>\n",
              "    </tr>\n",
              "  </thead>\n",
              "  <tbody>\n",
              "    <tr>\n",
              "      <th>0</th>\n",
              "      <td>Cam04_0205 13-59-22.jpg</td>\n",
              "      <td>/home/mfranke/SMART2/ROS-Bags/label/Cam04_0205...</td>\n",
              "      <td>2592</td>\n",
              "      <td>1944</td>\n",
              "      <td>car</td>\n",
              "      <td>1109</td>\n",
              "      <td>1286</td>\n",
              "      <td>1239</td>\n",
              "      <td>1789</td>\n",
              "      <td>Cam04</td>\n",
              "    </tr>\n",
              "    <tr>\n",
              "      <th>1</th>\n",
              "      <td>Cam04_0205 13-59-22.jpg</td>\n",
              "      <td>/home/mfranke/SMART2/ROS-Bags/label/Cam04_0205...</td>\n",
              "      <td>2592</td>\n",
              "      <td>1944</td>\n",
              "      <td>car</td>\n",
              "      <td>1562</td>\n",
              "      <td>1320</td>\n",
              "      <td>1664</td>\n",
              "      <td>1631</td>\n",
              "      <td>Cam04</td>\n",
              "    </tr>\n",
              "  </tbody>\n",
              "</table>\n",
              "</div>"
            ],
            "text/plain": [
              "                  filename  ... Camera\n",
              "0  Cam04_0205 13-59-22.jpg  ...  Cam04\n",
              "1  Cam04_0205 13-59-22.jpg  ...  Cam04\n",
              "\n",
              "[2 rows x 10 columns]"
            ]
          },
          "metadata": {
            "tags": []
          },
          "execution_count": 14
        }
      ]
    },
    {
      "cell_type": "code",
      "metadata": {
        "colab": {
          "base_uri": "https://localhost:8080/",
          "height": 182
        },
        "id": "ddViRyr_cM7n",
        "outputId": "ada3dcbd-e12e-4eee-920c-5ff63fe5b8c8"
      },
      "source": [
        "read_csv = pd.read_csv('fieldtest_annotations.csv')\n",
        "read_csv.drop(['Unnamed: 0'],axis=1)\n",
        "read_csv"
      ],
      "execution_count": null,
      "outputs": [
        {
          "output_type": "execute_result",
          "data": {
            "text/html": [
              "<div>\n",
              "<style scoped>\n",
              "    .dataframe tbody tr th:only-of-type {\n",
              "        vertical-align: middle;\n",
              "    }\n",
              "\n",
              "    .dataframe tbody tr th {\n",
              "        vertical-align: top;\n",
              "    }\n",
              "\n",
              "    .dataframe thead th {\n",
              "        text-align: right;\n",
              "    }\n",
              "</style>\n",
              "<table border=\"1\" class=\"dataframe\">\n",
              "  <thead>\n",
              "    <tr style=\"text-align: right;\">\n",
              "      <th></th>\n",
              "      <th>Unnamed: 0</th>\n",
              "      <th>filename</th>\n",
              "      <th>path</th>\n",
              "      <th>size|width</th>\n",
              "      <th>size|height</th>\n",
              "      <th>object|name</th>\n",
              "      <th>object|bndbox|xmin</th>\n",
              "      <th>object|bndbox|ymin</th>\n",
              "      <th>object|bndbox|xmax</th>\n",
              "      <th>object|bndbox|ymax</th>\n",
              "      <th>Camera</th>\n",
              "    </tr>\n",
              "  </thead>\n",
              "  <tbody>\n",
              "    <tr>\n",
              "      <th>0</th>\n",
              "      <td>0</td>\n",
              "      <td>Cam04_0205 13-59-22.jpg</td>\n",
              "      <td>/home/mfranke/SMART2/ROS-Bags/label/Cam04_0205...</td>\n",
              "      <td>2592</td>\n",
              "      <td>1944</td>\n",
              "      <td>car</td>\n",
              "      <td>1109</td>\n",
              "      <td>1286</td>\n",
              "      <td>1239</td>\n",
              "      <td>1789</td>\n",
              "      <td>Cam04</td>\n",
              "    </tr>\n",
              "    <tr>\n",
              "      <th>1</th>\n",
              "      <td>1</td>\n",
              "      <td>Cam04_0205 13-59-22.jpg</td>\n",
              "      <td>/home/mfranke/SMART2/ROS-Bags/label/Cam04_0205...</td>\n",
              "      <td>2592</td>\n",
              "      <td>1944</td>\n",
              "      <td>car</td>\n",
              "      <td>1562</td>\n",
              "      <td>1320</td>\n",
              "      <td>1664</td>\n",
              "      <td>1631</td>\n",
              "      <td>Cam04</td>\n",
              "    </tr>\n",
              "  </tbody>\n",
              "</table>\n",
              "</div>"
            ],
            "text/plain": [
              "   Unnamed: 0                 filename  ... object|bndbox|ymax  Camera\n",
              "0           0  Cam04_0205 13-59-22.jpg  ...               1789   Cam04\n",
              "1           1  Cam04_0205 13-59-22.jpg  ...               1631   Cam04\n",
              "\n",
              "[2 rows x 11 columns]"
            ]
          },
          "metadata": {
            "tags": []
          },
          "execution_count": 15
        }
      ]
    },
    {
      "cell_type": "code",
      "metadata": {
        "colab": {
          "base_uri": "https://localhost:8080/",
          "height": 162
        },
        "id": "cRBJsDdAn8d4",
        "outputId": "84163706-878d-40d5-8233-22eed6db9d04"
      },
      "source": [
        "edited_csv_file=read_csv.drop(['Unnamed: 0','filename','size|width','size|height','Camera'],axis=1)\n",
        "\n",
        "csv_to_txt=edited_csv_file.rename(columns={'object|name':'Class Id'})\n",
        "csv_to_txt"
      ],
      "execution_count": null,
      "outputs": [
        {
          "output_type": "execute_result",
          "data": {
            "text/html": [
              "<div>\n",
              "<style scoped>\n",
              "    .dataframe tbody tr th:only-of-type {\n",
              "        vertical-align: middle;\n",
              "    }\n",
              "\n",
              "    .dataframe tbody tr th {\n",
              "        vertical-align: top;\n",
              "    }\n",
              "\n",
              "    .dataframe thead th {\n",
              "        text-align: right;\n",
              "    }\n",
              "</style>\n",
              "<table border=\"1\" class=\"dataframe\">\n",
              "  <thead>\n",
              "    <tr style=\"text-align: right;\">\n",
              "      <th></th>\n",
              "      <th>path</th>\n",
              "      <th>Class Id</th>\n",
              "      <th>object|bndbox|xmin</th>\n",
              "      <th>object|bndbox|ymin</th>\n",
              "      <th>object|bndbox|xmax</th>\n",
              "      <th>object|bndbox|ymax</th>\n",
              "    </tr>\n",
              "  </thead>\n",
              "  <tbody>\n",
              "    <tr>\n",
              "      <th>0</th>\n",
              "      <td>/home/mfranke/SMART2/ROS-Bags/label/Cam04_0205...</td>\n",
              "      <td>car</td>\n",
              "      <td>1109</td>\n",
              "      <td>1286</td>\n",
              "      <td>1239</td>\n",
              "      <td>1789</td>\n",
              "    </tr>\n",
              "    <tr>\n",
              "      <th>1</th>\n",
              "      <td>/home/mfranke/SMART2/ROS-Bags/label/Cam04_0205...</td>\n",
              "      <td>car</td>\n",
              "      <td>1562</td>\n",
              "      <td>1320</td>\n",
              "      <td>1664</td>\n",
              "      <td>1631</td>\n",
              "    </tr>\n",
              "  </tbody>\n",
              "</table>\n",
              "</div>"
            ],
            "text/plain": [
              "                                                path  ... object|bndbox|ymax\n",
              "0  /home/mfranke/SMART2/ROS-Bags/label/Cam04_0205...  ...               1789\n",
              "1  /home/mfranke/SMART2/ROS-Bags/label/Cam04_0205...  ...               1631\n",
              "\n",
              "[2 rows x 6 columns]"
            ]
          },
          "metadata": {
            "tags": []
          },
          "execution_count": 16
        }
      ]
    },
    {
      "cell_type": "code",
      "metadata": {
        "colab": {
          "base_uri": "https://localhost:8080/"
        },
        "id": "iHCuax-bCRHJ",
        "outputId": "cd3a36b9-67a1-4677-f338-de1a9bd84825"
      },
      "source": [
        "from google.colab import drive\n",
        "drive.mount('/content/drive')\n",
        "txtfile= ('/content/drive/My Drive/Colab Notebooks/Project Pre task/project_pre_task/detect_classes.txt')"
      ],
      "execution_count": null,
      "outputs": [
        {
          "output_type": "stream",
          "text": [
            "Drive already mounted at /content/drive; to attempt to forcibly remount, call drive.mount(\"/content/drive\", force_remount=True).\n"
          ],
          "name": "stdout"
        }
      ]
    },
    {
      "cell_type": "code",
      "metadata": {
        "colab": {
          "base_uri": "https://localhost:8080/",
          "height": 162
        },
        "id": "H9mpKY0cGhhW",
        "outputId": "f660e913-93e9-4f51-d7ef-d495651776f5"
      },
      "source": [
        "detect=[]\n",
        "with open(txtfile) as f:\n",
        "    lines = f.readlines()\n",
        "    for i in lines:\n",
        "      a_string = i\n",
        "      new_string = a_string.replace(\"\\n\", \"\")\n",
        "      detect.append(new_string)\n",
        "\n",
        "#print(detect.index('truck'))\n",
        "#dp=pd.DataFrame(detect,columns=['Class Id'])\n",
        "#dp['Class Id'].index\n",
        "csv_to_txt"
      ],
      "execution_count": null,
      "outputs": [
        {
          "output_type": "execute_result",
          "data": {
            "text/html": [
              "<div>\n",
              "<style scoped>\n",
              "    .dataframe tbody tr th:only-of-type {\n",
              "        vertical-align: middle;\n",
              "    }\n",
              "\n",
              "    .dataframe tbody tr th {\n",
              "        vertical-align: top;\n",
              "    }\n",
              "\n",
              "    .dataframe thead th {\n",
              "        text-align: right;\n",
              "    }\n",
              "</style>\n",
              "<table border=\"1\" class=\"dataframe\">\n",
              "  <thead>\n",
              "    <tr style=\"text-align: right;\">\n",
              "      <th></th>\n",
              "      <th>path</th>\n",
              "      <th>Class Id</th>\n",
              "      <th>object|bndbox|xmin</th>\n",
              "      <th>object|bndbox|ymin</th>\n",
              "      <th>object|bndbox|xmax</th>\n",
              "      <th>object|bndbox|ymax</th>\n",
              "    </tr>\n",
              "  </thead>\n",
              "  <tbody>\n",
              "    <tr>\n",
              "      <th>0</th>\n",
              "      <td>/home/mfranke/SMART2/ROS-Bags/label/Cam04_0205...</td>\n",
              "      <td>car</td>\n",
              "      <td>1109</td>\n",
              "      <td>1286</td>\n",
              "      <td>1239</td>\n",
              "      <td>1789</td>\n",
              "    </tr>\n",
              "    <tr>\n",
              "      <th>1</th>\n",
              "      <td>/home/mfranke/SMART2/ROS-Bags/label/Cam04_0205...</td>\n",
              "      <td>car</td>\n",
              "      <td>1562</td>\n",
              "      <td>1320</td>\n",
              "      <td>1664</td>\n",
              "      <td>1631</td>\n",
              "    </tr>\n",
              "  </tbody>\n",
              "</table>\n",
              "</div>"
            ],
            "text/plain": [
              "                                                path  ... object|bndbox|ymax\n",
              "0  /home/mfranke/SMART2/ROS-Bags/label/Cam04_0205...  ...               1789\n",
              "1  /home/mfranke/SMART2/ROS-Bags/label/Cam04_0205...  ...               1631\n",
              "\n",
              "[2 rows x 6 columns]"
            ]
          },
          "metadata": {
            "tags": []
          },
          "execution_count": 18
        }
      ]
    },
    {
      "cell_type": "code",
      "metadata": {
        "id": "YiFqs6GaSO8Z",
        "colab": {
          "base_uri": "https://localhost:8080/",
          "height": 199
        },
        "outputId": "b4a12533-fa50-4f74-c8d7-f36c17183b5d"
      },
      "source": [
        "for object in csv_to_txt['Class Id']:\n",
        "  for a in detect:\n",
        "    if object==a:\n",
        "      print(detect.index(a))\n",
        "      csv_to_txt[\"Class Id\"].replace({object:detect.index(a)}, inplace=True)\n",
        "#csv_to_txt\n",
        "csv_to_txt = csv_to_txt[['path','object|bndbox|xmin','object|bndbox|ymin','object|bndbox|xmax','object|bndbox|ymax','Class Id']]\n",
        "#csv_to_txt\n",
        "      \n",
        "csv_to_txt.to_csv('csv_to_txt.csv')\n",
        "csv_to_txt"
      ],
      "execution_count": null,
      "outputs": [
        {
          "output_type": "stream",
          "text": [
            "3\n"
          ],
          "name": "stdout"
        },
        {
          "output_type": "execute_result",
          "data": {
            "text/html": [
              "<div>\n",
              "<style scoped>\n",
              "    .dataframe tbody tr th:only-of-type {\n",
              "        vertical-align: middle;\n",
              "    }\n",
              "\n",
              "    .dataframe tbody tr th {\n",
              "        vertical-align: top;\n",
              "    }\n",
              "\n",
              "    .dataframe thead th {\n",
              "        text-align: right;\n",
              "    }\n",
              "</style>\n",
              "<table border=\"1\" class=\"dataframe\">\n",
              "  <thead>\n",
              "    <tr style=\"text-align: right;\">\n",
              "      <th></th>\n",
              "      <th>path</th>\n",
              "      <th>object|bndbox|xmin</th>\n",
              "      <th>object|bndbox|ymin</th>\n",
              "      <th>object|bndbox|xmax</th>\n",
              "      <th>object|bndbox|ymax</th>\n",
              "      <th>Class Id</th>\n",
              "    </tr>\n",
              "  </thead>\n",
              "  <tbody>\n",
              "    <tr>\n",
              "      <th>0</th>\n",
              "      <td>/home/mfranke/SMART2/ROS-Bags/label/Cam04_0205...</td>\n",
              "      <td>1109</td>\n",
              "      <td>1286</td>\n",
              "      <td>1239</td>\n",
              "      <td>1789</td>\n",
              "      <td>3</td>\n",
              "    </tr>\n",
              "    <tr>\n",
              "      <th>1</th>\n",
              "      <td>/home/mfranke/SMART2/ROS-Bags/label/Cam04_0205...</td>\n",
              "      <td>1562</td>\n",
              "      <td>1320</td>\n",
              "      <td>1664</td>\n",
              "      <td>1631</td>\n",
              "      <td>3</td>\n",
              "    </tr>\n",
              "  </tbody>\n",
              "</table>\n",
              "</div>"
            ],
            "text/plain": [
              "                                                path  ...  Class Id\n",
              "0  /home/mfranke/SMART2/ROS-Bags/label/Cam04_0205...  ...         3\n",
              "1  /home/mfranke/SMART2/ROS-Bags/label/Cam04_0205...  ...         3\n",
              "\n",
              "[2 rows x 6 columns]"
            ]
          },
          "metadata": {
            "tags": []
          },
          "execution_count": 19
        }
      ]
    },
    {
      "cell_type": "code",
      "metadata": {
        "colab": {
          "base_uri": "https://localhost:8080/"
        },
        "id": "FnAq-0c5xaiZ",
        "outputId": "7eb7840b-4349-4cc1-9f2e-c6453c1710e2"
      },
      "source": [
        "import csv\n",
        "csv_file = input('Enter the name of your input file: ')\n",
        "txt_file = input('Enter the name of your output file: ')\n",
        "with open(txt_file, \"w\") as my_output_file:\n",
        "    with open(csv_file, \"r\") as my_input_file:\n",
        "        [ my_output_file.write(\" \".join(row)+'\\n') for row in csv.reader(my_input_file)]\n",
        "    my_output_file.close()"
      ],
      "execution_count": null,
      "outputs": [
        {
          "output_type": "stream",
          "text": [
            "Enter the name of your input file: csv_to_txt.csv\n",
            "Enter the name of your output file: annotations_for_training.txt\n"
          ],
          "name": "stdout"
        }
      ]
    },
    {
      "cell_type": "code",
      "metadata": {
        "id": "Z1ZTqbLodgjW"
      },
      "source": [],
      "execution_count": null,
      "outputs": []
    }
  ]
}
